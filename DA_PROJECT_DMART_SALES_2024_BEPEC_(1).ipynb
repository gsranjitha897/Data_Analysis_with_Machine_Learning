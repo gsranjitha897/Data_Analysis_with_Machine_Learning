# Create a python script
import pandas as pd
import pyodbc
import os
import sys
import mysql.connector
from datetime import datetime

# MySQL connection details
mysql_host = "127.0.0.1"
mysql_user = "root"
mysql_password = "root"
mysql_database = "SalesDatabase_DMART_2024"

# Read Excel file into a pandas DataFrame
category_excel_file_path = "C:/Users/user/Documents/BEPEC projects POWER BI/DMart store/DIM category.xlsx"
df_category = pd.read_excel(category_excel_file_path)

customer_excel_file_path = "C:/Users/user/Documents/BEPEC projects POWER BI/DMart store/Dim Customer.xlsx"
df_customer = pd.read_excel(customer_excel_file_path)

FeedBack_excel_file_path = "C:/Users/user/Documents/BEPEC projects POWER BI/DMart store/Dim FeedBack.xlsx"
df_feedback = pd.read_excel(FeedBack_excel_file_path)

Location_excel_file_path = "C:/Users/user/Documents/BEPEC projects POWER BI/DMart store/DIM Location.xlsx"
df_location = pd.read_excel(Location_excel_file_path)

product_excel_file_path = "C:/Users/user/Documents/BEPEC projects POWER BI/DMart store/DIM product.xlsx"
df_product = pd.read_excel(product_excel_file_path)

segment_excel_file_path = "C:/Users/user/Documents/BEPEC projects POWER BI/DMart store/DIM segment.xlsx"
df_segment = pd.read_excel(segment_excel_file_path)

ship_Type_excel_file_path = "C:/Users/user/Documents/BEPEC projects POWER BI/DMart store/DIM ship_Type.xlsx"
df_ship_Type = pd.read_excel(ship_Type_excel_file_path)

sub_category_excel_file_path = "C:/Users/user/Documents/BEPEC projects POWER BI/DMart store/DIM sub_category.xlsx"
df_sub_category = pd.read_excel(sub_category_excel_file_path)

Dmart_Sales_Data_excel_file_path = "C:/Users/user/Documents/BEPEC projects POWER BI/DMart store/FACT- Dmart_Sales_Data.xlsx"
df_dmart_sales = pd.read_excel(Dmart_Sales_Data_excel_file_path)

try:
    connection = mysql.connector.connect(
        host=mysql_host,
        user=mysql_user,
        password=mysql_password,
        database=mysql_database
    )

    # Create a MySQL cursor
    cursor = connection.cursor()

    # Drop the existing stored procedure if it exists
    drop_procedure_query = "DROP PROCEDURE IF EXISTS sp_InsertSalesData;"
    cursor.execute(drop_procedure_query)

    # ... (create tables and stored procedure)
     # Create the CATEGORY table
    create_category_table_query = """
    CREATE TABLE IF NOT EXISTS CATEGORY (
        Category_Name VARCHAR(200),
        Category_ID INT,
        PRIMARY KEY(Category_ID)
    );
    """
    cursor.execute(create_category_table_query)
    
         
    category_insert_query = "INSERT INTO CATEGORY (Category_Name, Category_ID) VALUES (%s, %s);"
    category_values = [(row['Category_Name'], row['Category_ID']) for _, row in df_category.iterrows()]
    cursor.executemany(category_insert_query, category_values)

# Commit the changes after inserting categories
    connection.commit()



    # Create the CUSTOMER table
    create_customer_table_query = """
    CREATE TABLE IF NOT EXISTS CUSTOMER (
        Customer_Name VARCHAR(200),
        Customer_ID INT,
        PRIMARY KEY(Customer_ID)
    );
    """
    cursor.execute(create_customer_table_query)
    
   
    customer_insert_query = "INSERT INTO CUSTOMER (Customer_Name, Customer_ID) VALUES (%s, %s);"
    customer_values=[(row['Customer_Name'],row['Customer_ID']) for _, row in df_customer.iterrows()]
    cursor.executemany(customer_insert_query, customer_values)

    
    connection.commit()


    # Create the FEEDBACK table
    create_feedback_table_query = """
    CREATE TABLE IF NOT EXISTS FEEDBACK (
        Feedback VARCHAR(200),
        Feedback_ID INT,
        PRIMARY KEY(Feedback_ID)
    );
    """
    cursor.execute(create_feedback_table_query)
    
    
    # Insert data into the FEEDBACK table
    feedback_insert_query = "INSERT INTO FEEDBACK (Feedback, Feedback_ID) VALUES (%s, %s);"
    feedback_values = [(row['Feedback'], row['Feedback_ID']) for _, row in df_feedback.iterrows()]
    cursor.executemany(feedback_insert_query, feedback_values)


    connection.commit()

    

    # Create the LOCATION table
    create_location_table_query = """
    CREATE TABLE IF NOT EXISTS LOCATION
( 
Country VARCHAR(200),
State VARCHAR(200),
City VARCHAR(200),
Region VARCHAR(200),
Location_ID INT,
 PRIMARY KEY(Location_ID)
 );
 
 
    """
    cursor.execute(create_location_table_query)
    
    location_insert_query = "INSERT INTO LOCATION (Country, State, City, Region, Location_ID) VALUES (%s, %s, %s, %s, %s);"
    location_values = [(row['Country'], row['State'], row['City'], row['Region'], row['Location_ID']) for _, row in df_location.iterrows()]
    cursor.executemany(location_insert_query, location_values)


    connection.commit()
    
    # Create the PRODUCT table
    create_product_table_query = """
CREATE TABLE IF NOT EXISTS PRODUCT (
    Product_Name VARCHAR(200),
    Product_ID INT,
    PRIMARY KEY(Product_ID)
);
"""
    cursor.execute(create_product_table_query)

    product_insert_query = "INSERT INTO PRODUCT (Product_Name, Product_ID) VALUES (%s, %s);"
    product_values = [(row['Product_Name'], row['Product_ID']) for _, row in df_product.iterrows()]
    cursor.executemany(product_insert_query, product_values)
        
    connection.commit()

# Create the SEGMENT table
    create_segment_table_query = """
CREATE TABLE IF NOT EXISTS SEGMENT (
    Segment VARCHAR(200),
    Segment_ID INT,
    PRIMARY KEY(Segment_ID)
);
"""
    cursor.execute(create_segment_table_query)
    
    segment_insert_query = "INSERT INTO SEGMENT (Segment, Segment_ID) VALUES (%s, %s);"
    segment_values = [(row['Segment'], row['Segment_ID']) for _, row in df_segment.iterrows()]
    cursor.executemany(segment_insert_query, segment_values)



    connection.commit()

# Create the SHIPTYPE table
    create_shiptype_table_query = """
CREATE TABLE IF NOT EXISTS SHIPTYPE (
    Ship_Mode VARCHAR(200),
    Ship_ID INT,
    PRIMARY KEY(Ship_ID)
);
"""
    cursor.execute(create_shiptype_table_query)

    shiptype_insert_query = "INSERT INTO SHIPTYPE (Ship_Mode, Ship_ID) VALUES (%s, %s);"
    shiptype_values = [(row['Ship_Mode'], row['Ship_ID']) for _, row in df_ship_Type.iterrows()]
    cursor.executemany(shiptype_insert_query, shiptype_values)
    connection.commit()

# Create the SUB_CATEGORY table
    create_subcategory_table_query = """
CREATE TABLE IF NOT EXISTS SUB_CATEGORY (
    Sub_Category VARCHAR(200),
    Sub_Category_ID INT,
    PRIMARY KEY(Sub_Category_ID)
);
"""
    cursor.execute(create_subcategory_table_query)

    subcategory_insert_query = "INSERT INTO SUB_CATEGORY (Sub_Category, Sub_Category_ID) VALUES (%s, %s);"
    subcategory_values = [(row['Sub_Category'], row['Sub_Category_ID']) for _, row in df_sub_category.iterrows()]
    cursor.executemany(subcategory_insert_query, subcategory_values)
    connection.commit()

# Create the DMART_SALE table
    create_dmartsale_table_query = """
CREATE TABLE IF NOT EXISTS DMART_SALE (
    SL_NO INT PRIMARY KEY AUTO_INCREMENT,
    Order_ID VARCHAR(200),
    Order_Date DATE,
    Customer_ID INT,
    Location_ID INT,
    Segment_ID INT,
    Ship_ID INT,
    Category_ID INT,
    Sub_category_ID INT,
    Product_ID INT,
    Feedback_ID INT,
    Discount DECIMAL(10, 2),
    Sales DECIMAL(10, 2),
    Profit DECIMAL(10, 2),
    Quantity INT,
    FOREIGN KEY(Customer_ID) REFERENCES CUSTOMER(Customer_ID),
    FOREIGN KEY(Location_ID) REFERENCES LOCATION(Location_ID),
    FOREIGN KEY(Segment_ID) REFERENCES SEGMENT(Segment_ID),
    FOREIGN KEY(Ship_ID) REFERENCES SHIPTYPE(Ship_ID),
    FOREIGN KEY(Category_ID) REFERENCES CATEGORY(Category_ID),
    FOREIGN KEY(Sub_category_ID) REFERENCES SUB_CATEGORY(Sub_Category_ID),
    FOREIGN KEY(Product_ID) REFERENCES PRODUCT(Product_ID),
    FOREIGN KEY(Feedback_ID) REFERENCES FEEDBACK(Feedback_ID)
);
"""
    cursor.execute(create_dmartsale_table_query)



    dmartsale_insert_query = """
    INSERT INTO DMART_SALE (SL_NO, Order_ID, Order_Date, Customer_ID, Location_ID, Segment_ID, Ship_ID, 
                            Category_ID, Sub_category_ID, Product_ID, Feedback_ID, Discount, Sales, Profit, Quantity)
    VALUES (%s, %s, %s, %s, %s, %s, %s, %s, %s, %s, %s, %s, %s, %s, %s);
"""
    # Convert the 'Order_Date' column to string format
    df_dmart_sales['Order_Date'] = df_dmart_sales['Order_Date'].dt.strftime('%Y-%m-%d')

# Create dmartsale_values with the converted 'Order_Date'
    dmartsale_values = [
    (row['SL_NO'], row['Order_ID'], row['Order_Date'], row['Customer_ID'], row['Location_ID'],
     row['Segment_ID'], row['Ship_ID'], row['Category_ID'], row['Sub_category_ID'],
     row['Product_ID'], row['Feedback_ID'], row['Discount'], row['Sales'], row['Profit'], row['Quantity'])
    for _, row in df_dmart_sales.iterrows()
]
    cursor.executemany(dmartsale_insert_query, dmartsale_values)

    # Commit the changes after inserting data into all tables
    connection.commit()

    
    
    # insert stored procedure
    create_insert_procedure_query = """
    CREATE PROCEDURE sp_InsertSalesData(
    IN p_Category_Name VARCHAR(200),
    IN p_Category_ID INT,
    IN p_Customer_Name VARCHAR(200),
    IN p_Customer_ID INT,
    IN p_Feedback VARCHAR(200),
    IN p_Feedback_ID INT,
    IN p_Country VARCHAR(200),
    IN p_State VARCHAR(200),
    IN p_City VARCHAR(200),
    IN p_Region VARCHAR(200),
    IN p_Location_ID INT,
    IN p_Product_Name VARCHAR(200),
    IN p_Product_ID INT,
    IN p_Segment VARCHAR(200),
    IN p_Segment_ID INT,
    IN p_Ship_Mode VARCHAR(200),
    IN p_Ship_ID INT,
    IN p_Sub_Category VARCHAR(200),
    IN p_Sub_Category_ID INT,
    IN p_SL_NO INT,
    IN p_Order_ID VARCHAR(200),
    IN p_Order_Date DATE,
    IN p_Discount DECIMAL(10,2),
    IN p_Sales DECIMAL(10,2),
    IN p_Profit DECIMAL(10,2),
    IN p_Quantity INT
    )
    BEGIN
        -- Insert into CATEGORY table
        INSERT INTO CATEGORY (Category_Name, Category_ID)
        VALUES (p_Category_Name, p_Category_ID);

        -- Insert into CUSTOMER table
        INSERT INTO CUSTOMER (Customer_Name, Customer_ID)
        VALUES (p_Customer_Name, p_Customer_ID);

        -- Insert into FEEDBACK table
        INSERT INTO FEEDBACK (Feedback, Feedback_ID)
        VALUES (p_Feedback, p_Feedback_ID);

        -- Insert into LOCATION table
        INSERT INTO LOCATION (Country, State, City, Region, Location_ID)
        VALUES (p_Country, p_State, p_City, p_Region, p_Location_ID);

        -- Insert into PRODUCT table
        INSERT INTO PRODUCT (Product_Name, Product_ID)
        VALUES (p_Product_Name, p_Product_ID);

        -- Insert into SEGMENT table
        INSERT INTO SEGMENT (Segment, Segment_ID)
        VALUES (p_Segment, p_Segment_ID);

        -- Insert into SHIPTYPE table
        INSERT INTO SHIPTYPE (Ship_Mode, Ship_ID)
        VALUES (p_Ship_Mode, p_Ship_ID);

        -- Insert into SUB_CATEGORY table
        INSERT INTO SUB_CATEGORY (Sub_Category, Sub_Category_ID)
        VALUES (p_Sub_Category, p_Sub_Category_ID);

        -- Insert into DMART_SALE table
        INSERT INTO DMART_SALE (SL_NO, Order_ID, Order_Date, Customer_ID, Location_ID, Segment_ID, Ship_ID, Category_ID, Sub_category_ID, Product_ID, Feedback_ID, Discount, Sales, Profit, Quantity)
        VALUES (p_SL_NO, p_Order_ID,STR_TO_DATE(p_Order_Date,'%Y-%m-%d'), p_Customer_ID, p_Location_ID, p_Segment_ID, p_Ship_ID, p_Category_ID, p_Sub_category_ID, p_Product_ID, p_Feedback_ID, p_Discount, p_Sales, p_Profit, p_Quantity);
    END
    """
    cursor.execute(create_insert_procedure_query)

    # Commit the changes
    connection.commit()
    print("Tables and Stored Procedure created successfully.")
    


    try:
    # Iterate over DataFrame indices
        for index, (category_row, customer_row, feedback_row, location_row, product_row, segment_row, ship_Type_row,
                sub_category_row, dmart_sales_row) in enumerate(zip(df_category.iterrows(), df_customer.iterrows(),
                df_feedback.iterrows(), df_location.iterrows(), df_product.iterrows(), df_segment.iterrows(),
                df_ship_Type.iterrows(), df_sub_category.iterrows(), df_dmart_sales.iterrows())):

            dmart_sales_data = dmart_sales_row[1]
            category_data = category_row[1]
            customer_data = customer_row[1]
            feedback_data = feedback_row[1]
            location_data = location_row[1]
            product_data = product_row[1]
            segment_data = segment_row[1]
            ship_Type_data = ship_Type_row[1]
            sub_category_data = sub_category_row[1]

        # Print the processed row information
            print(f"Processing row {index + 1}, Order_Date: {dmart_sales_data['Order_Date']}")

        # Inserting data using stored procedure
            insert_procedure_call = """
            CALL sp_InsertSalesData(%s, %s, %s, %s, %s, %s, %s, %s, %s, %s,
                                %s, %s, %s, %s, %s, %s, %s, %s, %s, %s,
                                %s, %s, %s, %s, %s, %s)
        """
            print(f"Data for iteration {index + 1} inserted successfully.")

            cursor.callproc('sp_InsertSalesData', (
            category_data['Category_Name'], category_data['Category_ID'],
            customer_data['Customer_Name'], customer_data['Customer_ID'],
            feedback_data['Feedback'], feedback_data['Feedback_ID'],
            location_data['Country'], location_data['State'], location_data['City'], location_data['Region'],
            location_data['Location_ID'],
            product_data['Product_Name'], product_data['Product_ID'],
            segment_data['Segment'], segment_data['Segment_ID'],
            ship_Type_data['Ship_Mode'], ship_Type_data['Ship_ID'],
            sub_category_data['Sub_Category'], sub_category_data['Sub_Category_ID'],
            dmart_sales_data['SL_NO'], dmart_sales_data['Order_ID'], dmart_sales_data['Order_Date'], 
            dmart_sales_data['Discount'], dmart_sales_data['Sales'],
            dmart_sales_data['Profit'], dmart_sales_data['Quantity']
        ))

            connection.commit()
            print(f"Data for iteration {index + 1} inserted successfully.")

    # Check if all data has been inserted successfully
    
        all_data_inserted = True
    
    #  check if the last record is successfully inserted into the database

        if all_data_inserted:
            continue_inserting = False

    except Exception as e:
    # Handle exceptions here
        print(f"An error occurred: {e}")

finally:
    # Close the connection in the finally block to ensure it's always closed, even if an exception occurs
    if connection.is_connected():
        cursor.close()
